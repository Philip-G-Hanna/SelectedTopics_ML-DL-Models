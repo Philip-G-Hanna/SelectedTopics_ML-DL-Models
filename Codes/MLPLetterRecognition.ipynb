{
  "nbformat": 4,
  "nbformat_minor": 0,
  "metadata": {
    "colab": {
      "name": "MLPLetterRecognition.ipynb",
      "provenance": [],
      "collapsed_sections": []
    },
    "kernelspec": {
      "name": "python3",
      "display_name": "Python 3"
    },
    "language_info": {
      "name": "python"
    }
  },
  "cells": [
    {
      "cell_type": "code",
      "execution_count": 67,
      "metadata": {
        "id": "LvkfReOOi13a"
      },
      "outputs": [],
      "source": [
        "import pandas as pd\n",
        "import matplotlib.pyplot as plt\n",
        "from sklearn.neural_network import MLPClassifier\n",
        "from sklearn.model_selection import train_test_split\n",
        "from sklearn.metrics import accuracy_score, classification_report\n",
        "import matplotlib.pyplot as plt\n",
        "import numpy as np"
      ]
    },
    {
      "cell_type": "markdown",
      "source": [
        "**Vissualization Data**"
      ],
      "metadata": {
        "id": "J5AM-Ir2jfMO"
      }
    },
    {
      "cell_type": "code",
      "source": [
        "ds = pd.read_csv('drive/MyDrive/DataSets/letter-recognition.csv')\n",
        "ds.head()"
      ],
      "metadata": {
        "colab": {
          "base_uri": "https://localhost:8080/",
          "height": 206
        },
        "id": "p3EuWmh0jQJv",
        "outputId": "9bafe9fa-4264-419c-f0c4-96f34b973dfb"
      },
      "execution_count": 68,
      "outputs": [
        {
          "output_type": "execute_result",
          "data": {
            "text/html": [
              "\n",
              "  <div id=\"df-e716590f-4f5d-40e3-8bc6-ddc0f85ee01b\">\n",
              "    <div class=\"colab-df-container\">\n",
              "      <div>\n",
              "<style scoped>\n",
              "    .dataframe tbody tr th:only-of-type {\n",
              "        vertical-align: middle;\n",
              "    }\n",
              "\n",
              "    .dataframe tbody tr th {\n",
              "        vertical-align: top;\n",
              "    }\n",
              "\n",
              "    .dataframe thead th {\n",
              "        text-align: right;\n",
              "    }\n",
              "</style>\n",
              "<table border=\"1\" class=\"dataframe\">\n",
              "  <thead>\n",
              "    <tr style=\"text-align: right;\">\n",
              "      <th></th>\n",
              "      <th>letter</th>\n",
              "      <th>xbox</th>\n",
              "      <th>ybox</th>\n",
              "      <th>width</th>\n",
              "      <th>height</th>\n",
              "      <th>onpix</th>\n",
              "      <th>xbar</th>\n",
              "      <th>ybar</th>\n",
              "      <th>x2bar</th>\n",
              "      <th>y2bar</th>\n",
              "      <th>xybar</th>\n",
              "      <th>x2ybar</th>\n",
              "      <th>xy2bar</th>\n",
              "      <th>xedge</th>\n",
              "      <th>xedgey</th>\n",
              "      <th>yedge</th>\n",
              "      <th>yedgex</th>\n",
              "    </tr>\n",
              "  </thead>\n",
              "  <tbody>\n",
              "    <tr>\n",
              "      <th>0</th>\n",
              "      <td>T</td>\n",
              "      <td>2</td>\n",
              "      <td>8</td>\n",
              "      <td>3</td>\n",
              "      <td>5</td>\n",
              "      <td>1</td>\n",
              "      <td>8</td>\n",
              "      <td>13</td>\n",
              "      <td>0</td>\n",
              "      <td>6</td>\n",
              "      <td>6</td>\n",
              "      <td>10</td>\n",
              "      <td>8</td>\n",
              "      <td>0</td>\n",
              "      <td>8</td>\n",
              "      <td>0</td>\n",
              "      <td>8</td>\n",
              "    </tr>\n",
              "    <tr>\n",
              "      <th>1</th>\n",
              "      <td>I</td>\n",
              "      <td>5</td>\n",
              "      <td>12</td>\n",
              "      <td>3</td>\n",
              "      <td>7</td>\n",
              "      <td>2</td>\n",
              "      <td>10</td>\n",
              "      <td>5</td>\n",
              "      <td>5</td>\n",
              "      <td>4</td>\n",
              "      <td>13</td>\n",
              "      <td>3</td>\n",
              "      <td>9</td>\n",
              "      <td>2</td>\n",
              "      <td>8</td>\n",
              "      <td>4</td>\n",
              "      <td>10</td>\n",
              "    </tr>\n",
              "    <tr>\n",
              "      <th>2</th>\n",
              "      <td>D</td>\n",
              "      <td>4</td>\n",
              "      <td>11</td>\n",
              "      <td>6</td>\n",
              "      <td>8</td>\n",
              "      <td>6</td>\n",
              "      <td>10</td>\n",
              "      <td>6</td>\n",
              "      <td>2</td>\n",
              "      <td>6</td>\n",
              "      <td>10</td>\n",
              "      <td>3</td>\n",
              "      <td>7</td>\n",
              "      <td>3</td>\n",
              "      <td>7</td>\n",
              "      <td>3</td>\n",
              "      <td>9</td>\n",
              "    </tr>\n",
              "    <tr>\n",
              "      <th>3</th>\n",
              "      <td>N</td>\n",
              "      <td>7</td>\n",
              "      <td>11</td>\n",
              "      <td>6</td>\n",
              "      <td>6</td>\n",
              "      <td>3</td>\n",
              "      <td>5</td>\n",
              "      <td>9</td>\n",
              "      <td>4</td>\n",
              "      <td>6</td>\n",
              "      <td>4</td>\n",
              "      <td>4</td>\n",
              "      <td>10</td>\n",
              "      <td>6</td>\n",
              "      <td>10</td>\n",
              "      <td>2</td>\n",
              "      <td>8</td>\n",
              "    </tr>\n",
              "    <tr>\n",
              "      <th>4</th>\n",
              "      <td>G</td>\n",
              "      <td>2</td>\n",
              "      <td>1</td>\n",
              "      <td>3</td>\n",
              "      <td>1</td>\n",
              "      <td>1</td>\n",
              "      <td>8</td>\n",
              "      <td>6</td>\n",
              "      <td>6</td>\n",
              "      <td>6</td>\n",
              "      <td>6</td>\n",
              "      <td>5</td>\n",
              "      <td>9</td>\n",
              "      <td>1</td>\n",
              "      <td>7</td>\n",
              "      <td>5</td>\n",
              "      <td>10</td>\n",
              "    </tr>\n",
              "  </tbody>\n",
              "</table>\n",
              "</div>\n",
              "      <button class=\"colab-df-convert\" onclick=\"convertToInteractive('df-e716590f-4f5d-40e3-8bc6-ddc0f85ee01b')\"\n",
              "              title=\"Convert this dataframe to an interactive table.\"\n",
              "              style=\"display:none;\">\n",
              "        \n",
              "  <svg xmlns=\"http://www.w3.org/2000/svg\" height=\"24px\"viewBox=\"0 0 24 24\"\n",
              "       width=\"24px\">\n",
              "    <path d=\"M0 0h24v24H0V0z\" fill=\"none\"/>\n",
              "    <path d=\"M18.56 5.44l.94 2.06.94-2.06 2.06-.94-2.06-.94-.94-2.06-.94 2.06-2.06.94zm-11 1L8.5 8.5l.94-2.06 2.06-.94-2.06-.94L8.5 2.5l-.94 2.06-2.06.94zm10 10l.94 2.06.94-2.06 2.06-.94-2.06-.94-.94-2.06-.94 2.06-2.06.94z\"/><path d=\"M17.41 7.96l-1.37-1.37c-.4-.4-.92-.59-1.43-.59-.52 0-1.04.2-1.43.59L10.3 9.45l-7.72 7.72c-.78.78-.78 2.05 0 2.83L4 21.41c.39.39.9.59 1.41.59.51 0 1.02-.2 1.41-.59l7.78-7.78 2.81-2.81c.8-.78.8-2.07 0-2.86zM5.41 20L4 18.59l7.72-7.72 1.47 1.35L5.41 20z\"/>\n",
              "  </svg>\n",
              "      </button>\n",
              "      \n",
              "  <style>\n",
              "    .colab-df-container {\n",
              "      display:flex;\n",
              "      flex-wrap:wrap;\n",
              "      gap: 12px;\n",
              "    }\n",
              "\n",
              "    .colab-df-convert {\n",
              "      background-color: #E8F0FE;\n",
              "      border: none;\n",
              "      border-radius: 50%;\n",
              "      cursor: pointer;\n",
              "      display: none;\n",
              "      fill: #1967D2;\n",
              "      height: 32px;\n",
              "      padding: 0 0 0 0;\n",
              "      width: 32px;\n",
              "    }\n",
              "\n",
              "    .colab-df-convert:hover {\n",
              "      background-color: #E2EBFA;\n",
              "      box-shadow: 0px 1px 2px rgba(60, 64, 67, 0.3), 0px 1px 3px 1px rgba(60, 64, 67, 0.15);\n",
              "      fill: #174EA6;\n",
              "    }\n",
              "\n",
              "    [theme=dark] .colab-df-convert {\n",
              "      background-color: #3B4455;\n",
              "      fill: #D2E3FC;\n",
              "    }\n",
              "\n",
              "    [theme=dark] .colab-df-convert:hover {\n",
              "      background-color: #434B5C;\n",
              "      box-shadow: 0px 1px 3px 1px rgba(0, 0, 0, 0.15);\n",
              "      filter: drop-shadow(0px 1px 2px rgba(0, 0, 0, 0.3));\n",
              "      fill: #FFFFFF;\n",
              "    }\n",
              "  </style>\n",
              "\n",
              "      <script>\n",
              "        const buttonEl =\n",
              "          document.querySelector('#df-e716590f-4f5d-40e3-8bc6-ddc0f85ee01b button.colab-df-convert');\n",
              "        buttonEl.style.display =\n",
              "          google.colab.kernel.accessAllowed ? 'block' : 'none';\n",
              "\n",
              "        async function convertToInteractive(key) {\n",
              "          const element = document.querySelector('#df-e716590f-4f5d-40e3-8bc6-ddc0f85ee01b');\n",
              "          const dataTable =\n",
              "            await google.colab.kernel.invokeFunction('convertToInteractive',\n",
              "                                                     [key], {});\n",
              "          if (!dataTable) return;\n",
              "\n",
              "          const docLinkHtml = 'Like what you see? Visit the ' +\n",
              "            '<a target=\"_blank\" href=https://colab.research.google.com/notebooks/data_table.ipynb>data table notebook</a>'\n",
              "            + ' to learn more about interactive tables.';\n",
              "          element.innerHTML = '';\n",
              "          dataTable['output_type'] = 'display_data';\n",
              "          await google.colab.output.renderOutput(dataTable, element);\n",
              "          const docLink = document.createElement('div');\n",
              "          docLink.innerHTML = docLinkHtml;\n",
              "          element.appendChild(docLink);\n",
              "        }\n",
              "      </script>\n",
              "    </div>\n",
              "  </div>\n",
              "  "
            ],
            "text/plain": [
              "  letter  xbox   ybox   width   height  ...  xy2bar  xedge   xedgey  yedge   yedgex\n",
              "0      T      2      8       3       5  ...       8       0       8       0       8\n",
              "1      I      5     12       3       7  ...       9       2       8       4      10\n",
              "2      D      4     11       6       8  ...       7       3       7       3       9\n",
              "3      N      7     11       6       6  ...      10       6      10       2       8\n",
              "4      G      2      1       3       1  ...       9       1       7       5      10\n",
              "\n",
              "[5 rows x 17 columns]"
            ]
          },
          "metadata": {},
          "execution_count": 68
        }
      ]
    },
    {
      "cell_type": "code",
      "source": [
        "ds['letter'].value_counts()"
      ],
      "metadata": {
        "colab": {
          "base_uri": "https://localhost:8080/"
        },
        "id": "IAk3qudok6OH",
        "outputId": "4ecf5fb8-9421-4b4a-ae52-d23e6e7e51ad"
      },
      "execution_count": 69,
      "outputs": [
        {
          "output_type": "execute_result",
          "data": {
            "text/plain": [
              "U    813\n",
              "D    805\n",
              "P    803\n",
              "T    796\n",
              "M    792\n",
              "A    789\n",
              "X    787\n",
              "Y    786\n",
              "N    783\n",
              "Q    783\n",
              "F    775\n",
              "G    773\n",
              "E    768\n",
              "B    766\n",
              "V    764\n",
              "L    761\n",
              "R    758\n",
              "I    755\n",
              "O    753\n",
              "W    752\n",
              "S    748\n",
              "J    747\n",
              "K    739\n",
              "C    736\n",
              "Z    734\n",
              "H    734\n",
              "Name: letter, dtype: int64"
            ]
          },
          "metadata": {},
          "execution_count": 69
        }
      ]
    },
    {
      "cell_type": "code",
      "source": [
        "ds.shape"
      ],
      "metadata": {
        "colab": {
          "base_uri": "https://localhost:8080/"
        },
        "id": "2ygkbXNajiFq",
        "outputId": "dd49c62c-da6a-4100-e50b-38757b6a9bd7"
      },
      "execution_count": 70,
      "outputs": [
        {
          "output_type": "execute_result",
          "data": {
            "text/plain": [
              "(20000, 17)"
            ]
          },
          "metadata": {},
          "execution_count": 70
        }
      ]
    },
    {
      "cell_type": "markdown",
      "source": [
        "**Visualization DataSet**"
      ],
      "metadata": {
        "id": "aiRNIjdss7nD"
      }
    },
    {
      "cell_type": "code",
      "source": [
        "ds.plot.scatter(x='letter', y='height', title='Letter-Recognition Dataset')"
      ],
      "metadata": {
        "colab": {
          "base_uri": "https://localhost:8080/",
          "height": 312
        },
        "id": "mvMjab0m4E7c",
        "outputId": "563c0d94-0657-4024-9ade-0d030ea48d15"
      },
      "execution_count": 71,
      "outputs": [
        {
          "output_type": "execute_result",
          "data": {
            "text/plain": [
              "<matplotlib.axes._subplots.AxesSubplot at 0x7f7632e93190>"
            ]
          },
          "metadata": {},
          "execution_count": 71
        },
        {
          "output_type": "display_data",
          "data": {
            "image/png": "[encoded data removed]",
            "text/plain": [
              "<Figure size 432x288 with 1 Axes>"
            ]
          },
          "metadata": {
            "needs_background": "light"
          }
        }
      ]
    },
    {
      "cell_type": "code",
      "source": [
        "ds['letter'].value_counts().sort_index().plot.bar()"
      ],
      "metadata": {
        "colab": {
          "base_uri": "https://localhost:8080/",
          "height": 282
        },
        "id": "eGQRm6xF4ULa",
        "outputId": "a4b89580-0960-434e-8233-dfd77e9aa099"
      },
      "execution_count": 72,
      "outputs": [
        {
          "output_type": "execute_result",
          "data": {
            "text/plain": [
              "<matplotlib.axes._subplots.AxesSubplot at 0x7f7632dd9fd0>"
            ]
          },
          "metadata": {},
          "execution_count": 72
        },
        {
          "output_type": "display_data",
          "data": {
            "image/png": "[encoded data removed]",
            "text/plain": [
              "<Figure size 432x288 with 1 Axes>"
            ]
          },
          "metadata": {
            "needs_background": "light"
          }
        }
      ]
    },
    {
      "cell_type": "markdown",
      "source": [
        "**Pre processing**"
      ],
      "metadata": {
        "id": "--fSAiQemZc3"
      }
    },
    {
      "cell_type": "code",
      "source": [
        "X_train, X_test, y_train, y_test = train_test_split(ds.drop('letter', axis=1), ds['letter'], test_size=0.3)\n",
        "print('X_train: ', X_train)\n",
        "print('Y_train: ', y_train)\n",
        "print('X_test: ', X_test)\n",
        "print('Y_test: ', y_test)"
      ],
      "metadata": {
        "colab": {
          "base_uri": "https://localhost:8080/"
        },
        "id": "L_h3QjEFmX4J",
        "outputId": "fc59c101-00d2-46df-8570-86aa9210cc92"
      },
      "execution_count": 73,
      "outputs": [
        {
          "output_type": "stream",
          "name": "stdout",
          "text": [
            "X_train:         xbox   ybox   width   height  ...  xedge   xedgey  yedge   yedgex\n",
            "13858      4      5       5       4  ...       4       4       3       9\n",
            "14086      4      8       5       5  ...       1      10       4       8\n",
            "16750      5      9       6       7  ...       3       7       5      11\n",
            "3910       1      1       2       1  ...       2       8       5       8\n",
            "14003      6     10       5       6  ...       2       9       4      11\n",
            "...      ...    ...     ...     ...  ...     ...     ...     ...     ...\n",
            "14856      2      4       4       3  ...       3       7       4      11\n",
            "18790      5      6       7       9  ...       9      14      10      14\n",
            "13728      3      3       3       4  ...       2       8       9      10\n",
            "13477      4      8       5       6  ...       3       8       6       9\n",
            "2164       4      9       4       6  ...       0       8       7       9\n",
            "\n",
            "[14000 rows x 16 columns]\n",
            "Y_train:  13858    K\n",
            "14086    P\n",
            "16750    L\n",
            "3910     X\n",
            "14003    I\n",
            "        ..\n",
            "14856    R\n",
            "18790    Q\n",
            "13728    B\n",
            "13477    K\n",
            "2164     E\n",
            "Name: letter, Length: 14000, dtype: object\n",
            "X_test:         xbox   ybox   width   height  ...  xedge   xedgey  yedge   yedgex\n",
            "6616       4      8       6       6  ...       1      10       3       8\n",
            "2906       4      9       6       7  ...       4       8       7       7\n",
            "5019       2      8       3       5  ...       0       8       0       8\n",
            "2125       4      9       5       6  ...       0       8       2       6\n",
            "4253       2      3       3       4  ...       0       8       0       8\n",
            "...      ...    ...     ...     ...  ...     ...     ...     ...     ...\n",
            "5194       5     11       5       6  ...       7       4       6      10\n",
            "265        6      5       8       4  ...      13       8       5       7\n",
            "12070      2      4       4       3  ...       2       6       2       8\n",
            "16165      2      4       4       3  ...       2       6       3      10\n",
            "17181      1      0       1       0  ...       3       7       2      10\n",
            "\n",
            "[6000 rows x 16 columns]\n",
            "Y_test:  6616     P\n",
            "2906     G\n",
            "5019     T\n",
            "2125     F\n",
            "4253     T\n",
            "        ..\n",
            "5194     A\n",
            "265      M\n",
            "12070    A\n",
            "16165    R\n",
            "17181    K\n",
            "Name: letter, Length: 6000, dtype: object\n"
          ]
        }
      ]
    },
    {
      "cell_type": "code",
      "source": [
        "modelSgd = MLPClassifier(hidden_layer_sizes=(100,100,100), activation='relu', solver='sgd', max_iter=2000)\n",
        "modelSgd.fit(X_train, y_train)\n",
        "print(classification_report(y_test, modelSgd.predict(X_test)))"
      ],
      "metadata": {
        "colab": {
          "base_uri": "https://localhost:8080/"
        },
        "id": "SJikHzMhlF4G",
        "outputId": "2cd8d85a-8337-494f-9599-9659697a9f40"
      },
      "execution_count": 55,
      "outputs": [
        {
          "output_type": "stream",
          "name": "stdout",
          "text": [
            "              precision    recall  f1-score   support\n",
            "\n",
            "           A       0.98      0.96      0.97       232\n",
            "           B       0.89      0.95      0.92       213\n",
            "           C       0.97      0.96      0.97       216\n",
            "           D       0.90      0.92      0.91       233\n",
            "           E       0.94      0.93      0.93       247\n",
            "           F       0.92      0.95      0.94       246\n",
            "           G       0.92      0.96      0.94       229\n",
            "           H       0.88      0.88      0.88       216\n",
            "           I       0.98      0.94      0.96       251\n",
            "           J       0.92      0.93      0.93       220\n",
            "           K       0.94      0.96      0.95       253\n",
            "           L       0.94      0.98      0.96       210\n",
            "           M       0.98      0.98      0.98       251\n",
            "           N       0.98      0.94      0.96       230\n",
            "           O       0.97      0.91      0.94       212\n",
            "           P       0.92      0.96      0.94       253\n",
            "           Q       0.96      0.94      0.95       215\n",
            "           R       0.92      0.91      0.92       230\n",
            "           S       0.97      0.96      0.97       209\n",
            "           T       0.95      0.96      0.95       226\n",
            "           U       0.98      0.97      0.97       255\n",
            "           V       0.95      0.95      0.95       228\n",
            "           W       0.97      0.99      0.98       223\n",
            "           X       0.97      0.96      0.97       245\n",
            "           Y       0.98      0.92      0.95       224\n",
            "           Z       0.96      0.96      0.96       233\n",
            "\n",
            "    accuracy                           0.95      6000\n",
            "   macro avg       0.95      0.95      0.95      6000\n",
            "weighted avg       0.95      0.95      0.95      6000\n",
            "\n"
          ]
        }
      ]
    },
    {
      "cell_type": "code",
      "source": [
        "modelAdam = MLPClassifier(hidden_layer_sizes=(250,250, 250), activation='relu', solver='adam', max_iter=2000)\n",
        "modelAdam.fit(X_train, y_train)\n",
        "print(classification_report(y_test, modelAdam.predict(X_test)))"
      ],
      "metadata": {
        "colab": {
          "base_uri": "https://localhost:8080/"
        },
        "id": "Gdn1K3t4ooxf",
        "outputId": "5d49ab16-24db-42af-81d0-59fb43a3f2a8"
      },
      "execution_count": 74,
      "outputs": [
        {
          "output_type": "stream",
          "name": "stdout",
          "text": [
            "              precision    recall  f1-score   support\n",
            "\n",
            "           A       0.99      0.96      0.98       243\n",
            "           B       0.89      0.97      0.93       238\n",
            "           C       0.98      0.90      0.94       233\n",
            "           D       0.94      0.95      0.94       234\n",
            "           E       0.92      0.88      0.90       221\n",
            "           F       0.96      0.95      0.95       221\n",
            "           G       0.96      0.90      0.93       230\n",
            "           H       0.95      0.90      0.92       215\n",
            "           I       0.90      0.97      0.93       219\n",
            "           J       0.98      0.94      0.96       219\n",
            "           K       0.92      0.96      0.94       225\n",
            "           L       0.98      0.95      0.97       218\n",
            "           M       0.93      0.99      0.96       238\n",
            "           N       0.92      0.95      0.93       232\n",
            "           O       0.98      0.92      0.95       242\n",
            "           P       0.97      0.96      0.97       255\n",
            "           Q       0.92      0.99      0.95       222\n",
            "           R       0.90      0.96      0.93       236\n",
            "           S       0.94      0.98      0.96       230\n",
            "           T       0.96      0.99      0.98       241\n",
            "           U       0.99      0.96      0.98       245\n",
            "           V       0.98      0.95      0.96       230\n",
            "           W       0.99      0.97      0.98       231\n",
            "           X       0.95      0.97      0.96       218\n",
            "           Y       0.98      0.93      0.95       232\n",
            "           Z       0.99      0.99      0.99       232\n",
            "\n",
            "    accuracy                           0.95      6000\n",
            "   macro avg       0.95      0.95      0.95      6000\n",
            "weighted avg       0.95      0.95      0.95      6000\n",
            "\n"
          ]
        }
      ]
    },
    {
      "cell_type": "code",
      "source": [
        "modelAdam = MLPClassifier(hidden_layer_sizes=(200,200, 200), activation='logistic', solver='adam', max_iter=2000)\n",
        "modelAdam.fit(X_train, y_train)\n",
        "print(classification_report(y_test, modelAdam.predict(X_test)))"
      ],
      "metadata": {
        "colab": {
          "base_uri": "https://localhost:8080/"
        },
        "id": "y5mXvHG1yVDa",
        "outputId": "60805cee-6573-4dc3-a290-c82f20491ee7"
      },
      "execution_count": 75,
      "outputs": [
        {
          "output_type": "stream",
          "name": "stdout",
          "text": [
            "              precision    recall  f1-score   support\n",
            "\n",
            "           A       0.98      0.98      0.98       243\n",
            "           B       0.95      0.94      0.95       238\n",
            "           C       0.98      0.96      0.97       233\n",
            "           D       0.98      0.95      0.97       234\n",
            "           E       0.96      0.96      0.96       221\n",
            "           F       0.96      0.98      0.97       221\n",
            "           G       0.95      0.96      0.95       230\n",
            "           H       0.93      0.93      0.93       215\n",
            "           I       0.95      0.95      0.95       219\n",
            "           J       0.97      0.96      0.97       219\n",
            "           K       0.97      0.94      0.95       225\n",
            "           L       0.98      0.98      0.98       218\n",
            "           M       0.99      1.00      0.99       238\n",
            "           N       0.96      0.97      0.97       232\n",
            "           O       0.96      0.97      0.96       242\n",
            "           P       0.98      0.97      0.97       255\n",
            "           Q       0.96      0.98      0.97       222\n",
            "           R       0.90      0.97      0.93       236\n",
            "           S       1.00      0.96      0.98       230\n",
            "           T       0.96      0.98      0.97       241\n",
            "           U       0.97      0.97      0.97       245\n",
            "           V       0.98      0.97      0.97       230\n",
            "           W       0.99      1.00      0.99       231\n",
            "           X       0.98      0.99      0.98       218\n",
            "           Y       0.98      0.98      0.98       232\n",
            "           Z       0.98      0.98      0.98       232\n",
            "\n",
            "    accuracy                           0.97      6000\n",
            "   macro avg       0.97      0.97      0.97      6000\n",
            "weighted avg       0.97      0.97      0.97      6000\n",
            "\n"
          ]
        }
      ]
    }
  ]
}